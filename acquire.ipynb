{
 "cells": [
  {
   "cell_type": "code",
   "execution_count": 1,
   "id": "4b66779c",
   "metadata": {},
   "outputs": [],
   "source": [
    "import pandas as pd"
   ]
  },
  {
   "cell_type": "code",
   "execution_count": 2,
   "id": "b818c7f3",
   "metadata": {},
   "outputs": [
    {
     "data": {
      "text/html": [
       "<div>\n",
       "<style scoped>\n",
       "    .dataframe tbody tr th:only-of-type {\n",
       "        vertical-align: middle;\n",
       "    }\n",
       "\n",
       "    .dataframe tbody tr th {\n",
       "        vertical-align: top;\n",
       "    }\n",
       "\n",
       "    .dataframe thead th {\n",
       "        text-align: right;\n",
       "    }\n",
       "</style>\n",
       "<table border=\"1\" class=\"dataframe\">\n",
       "  <thead>\n",
       "    <tr style=\"text-align: right;\">\n",
       "      <th></th>\n",
       "      <th>parish</th>\n",
       "      <th>address</th>\n",
       "      <th>city</th>\n",
       "      <th>state</th>\n",
       "      <th>zip</th>\n",
       "      <th>postal</th>\n",
       "    </tr>\n",
       "  </thead>\n",
       "  <tbody>\n",
       "    <tr>\n",
       "      <th>0</th>\n",
       "      <td>Holy Name</td>\n",
       "      <td>3814 Nash Blvd</td>\n",
       "      <td>San Antonio</td>\n",
       "      <td>TX</td>\n",
       "      <td>78223</td>\n",
       "      <td>3499.0</td>\n",
       "    </tr>\n",
       "    <tr>\n",
       "      <th>1</th>\n",
       "      <td>Mission Concepcion</td>\n",
       "      <td>807 Mission Rd</td>\n",
       "      <td>San Antonio</td>\n",
       "      <td>TX</td>\n",
       "      <td>78210</td>\n",
       "      <td>NaN</td>\n",
       "    </tr>\n",
       "    <tr>\n",
       "      <th>2</th>\n",
       "      <td>Mission San Francisco de la Espada</td>\n",
       "      <td>10040 Espada Rd</td>\n",
       "      <td>San Antonio</td>\n",
       "      <td>TX</td>\n",
       "      <td>78214</td>\n",
       "      <td>NaN</td>\n",
       "    </tr>\n",
       "    <tr>\n",
       "      <th>3</th>\n",
       "      <td>Mission San Jose y San Miguel</td>\n",
       "      <td>701 E Pyron Ave</td>\n",
       "      <td>San Antonio</td>\n",
       "      <td>TX</td>\n",
       "      <td>78214</td>\n",
       "      <td>2762.0</td>\n",
       "    </tr>\n",
       "    <tr>\n",
       "      <th>4</th>\n",
       "      <td>Mission San Juan Capistrano</td>\n",
       "      <td>9101 Graf Rd</td>\n",
       "      <td>San Antonio</td>\n",
       "      <td>TX</td>\n",
       "      <td>78214</td>\n",
       "      <td>NaN</td>\n",
       "    </tr>\n",
       "  </tbody>\n",
       "</table>\n",
       "</div>"
      ],
      "text/plain": [
       "                               parish          address         city state  \\\n",
       "0                           Holy Name   3814 Nash Blvd  San Antonio    TX   \n",
       "1                  Mission Concepcion   807 Mission Rd  San Antonio    TX   \n",
       "2  Mission San Francisco de la Espada  10040 Espada Rd  San Antonio    TX   \n",
       "3       Mission San Jose y San Miguel  701 E Pyron Ave  San Antonio    TX   \n",
       "4         Mission San Juan Capistrano     9101 Graf Rd  San Antonio    TX   \n",
       "\n",
       "     zip  postal  \n",
       "0  78223  3499.0  \n",
       "1  78210     NaN  \n",
       "2  78214     NaN  \n",
       "3  78214  2762.0  \n",
       "4  78214     NaN  "
      ]
     },
     "execution_count": 2,
     "metadata": {},
     "output_type": "execute_result"
    }
   ],
   "source": [
    "churches = pd.read_csv('SEUD_parishes.csv')\n",
    "churches.head()"
   ]
  },
  {
   "cell_type": "code",
   "execution_count": 3,
   "id": "f79ee709",
   "metadata": {},
   "outputs": [
    {
     "data": {
      "text/plain": [
       "parish      object\n",
       "address     object\n",
       "city        object\n",
       "state       object\n",
       "zip          int64\n",
       "postal     float64\n",
       "dtype: object"
      ]
     },
     "execution_count": 3,
     "metadata": {},
     "output_type": "execute_result"
    }
   ],
   "source": [
    "churches.dtypes"
   ]
  },
  {
   "cell_type": "code",
   "execution_count": 4,
   "id": "6969ef7d",
   "metadata": {},
   "outputs": [
    {
     "name": "stdout",
     "output_type": "stream",
     "text": [
      "<class 'pandas.core.frame.DataFrame'>\n",
      "RangeIndex: 13 entries, 0 to 12\n",
      "Data columns (total 6 columns):\n",
      " #   Column   Non-Null Count  Dtype  \n",
      "---  ------   --------------  -----  \n",
      " 0   parish   13 non-null     object \n",
      " 1   address  13 non-null     object \n",
      " 2   city     13 non-null     object \n",
      " 3   state    13 non-null     object \n",
      " 4   zip      13 non-null     int64  \n",
      " 5   postal   4 non-null      float64\n",
      "dtypes: float64(1), int64(1), object(4)\n",
      "memory usage: 752.0+ bytes\n"
     ]
    }
   ],
   "source": [
    "churches.info()"
   ]
  },
  {
   "cell_type": "code",
   "execution_count": null,
   "id": "bbf9cc8b",
   "metadata": {},
   "outputs": [],
   "source": []
  }
 ],
 "metadata": {
  "kernelspec": {
   "display_name": "Python 3",
   "language": "python",
   "name": "python3"
  },
  "language_info": {
   "codemirror_mode": {
    "name": "ipython",
    "version": 3
   },
   "file_extension": ".py",
   "mimetype": "text/x-python",
   "name": "python",
   "nbconvert_exporter": "python",
   "pygments_lexer": "ipython3",
   "version": "3.8.8"
  }
 },
 "nbformat": 4,
 "nbformat_minor": 5
}
